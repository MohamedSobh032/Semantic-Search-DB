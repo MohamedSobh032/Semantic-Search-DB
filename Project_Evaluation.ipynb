{
 "cells": [
  {
   "cell_type": "markdown",
   "metadata": {
    "id": "Yj9-3U--Krvc"
   },
   "source": [
    "# ADB Phase 2 Project Evaluation Notebook\n"
   ]
  },
  {
   "cell_type": "markdown",
   "metadata": {
    "id": "hV2Nc_f8Mbqh"
   },
   "source": [
    "**Purpose**: This notebook evaluates the performance of a semantic search project by analyzing databases of various sizes.\n",
    "\n",
    "### Evaluation Focus:\n",
    "- **Database Sizes**:\n",
    "  - 1 Million Records\n",
    "  - 10 Million Records\n",
    "  - 15 Million Records\n",
    "  - 20 Million Records\n",
    "\n",
    "For each database size, this notebook will:\n",
    "- Generate random vectors for the database.\n",
    "- Use the `VecDB` class (implemented by students) to retrieve queries\n",
    "- Evaluate and report retrieval time, accuracy, and RAM usage.\n",
    "\n",
    "### Project Constraints:\n",
    "Refer to the project document for details on RAM, Disk, Time, and Score constraints.\n",
    "\n",
    "### Notebook Structure:\n",
    "1. **Part 1 - Modifiable Cells**:\n",
    "   - Includes cells that teams are allowed to modify, specifically for these variables only:\n",
    "     - GitHub repository link (including PAT token).\n",
    "     - Google Drive IDs for indexes files.\n",
    "     - Paths for loading existing indexes.\n",
    "\n",
    "2. **Part 2 - Non-Modifiable Cells**:\n",
    "   - Contains essential setup and evaluation code that must not be modified.\n",
    "   - Students should only modify inputs in Part 1 to ensure smooth execution of the notebook."
   ]
  },
  {
   "cell_type": "markdown",
   "metadata": {
    "id": "C4EV_xB6Kw17"
   },
   "source": [
    "## Part 1 - Modifiable Cells"
   ]
  },
  {
   "cell_type": "markdown",
   "metadata": {
    "id": "AODP-iztLtBV"
   },
   "source": [
    "Each team must provide a unique GitHub repository link that includes a PAT token. This link will allow the notebook to download the necessary code for evaluation."
   ]
  },
  {
   "cell_type": "code",
   "execution_count": 1,
   "metadata": {
    "execution": {
     "iopub.execute_input": "2024-12-19T22:42:14.478546Z",
     "iopub.status.busy": "2024-12-19T22:42:14.478103Z",
     "iopub.status.idle": "2024-12-19T22:42:16.328756Z",
     "shell.execute_reply": "2024-12-19T22:42:16.327493Z",
     "shell.execute_reply.started": "2024-12-19T22:42:14.478507Z"
    },
    "id": "TCR6Z8ABxE3w",
    "outputId": "cc2f61de-c13f-4049-8763-e4a2ce814729",
    "trusted": true
   },
   "outputs": [
    {
     "name": "stdout",
     "output_type": "stream",
     "text": [
      "Cloning into 'vec_db'...\n",
      "remote: Enumerating objects: 109, done.\u001b[K\n",
      "remote: Counting objects: 100% (109/109), done.\u001b[K\n",
      "remote: Compressing objects: 100% (71/71), done.\u001b[K\n",
      "remote: Total 109 (delta 64), reused 77 (delta 32), pack-reused 0 (from 0)\u001b[K\n",
      "Receiving objects: 100% (109/109), 30.00 KiB | 7.50 MiB/s, done.\n",
      "Resolving deltas: 100% (64/64), done.\n"
     ]
    }
   ],
   "source": [
    "!git clone https://github.com/MohamedSobh032/Sematic-Search-DB.git vec_db"
   ]
  },
  {
   "cell_type": "markdown",
   "metadata": {
    "id": "O7QSIX510KMF"
   },
   "source": [
    "# Database Path Instructions\n"
   ]
  },
  {
   "cell_type": "markdown",
   "metadata": {
    "id": "UsUXWYom6xRv"
   },
   "source": [
    "Teams need to specify paths for each database (1M, 10M, 15M, 20M records) as follows:\n",
    "\n",
    "1. Zip each database directory/file after generation.\n",
    "2. Upload the zip file to Google Drive.\n",
    "3. Share the file with \"Anyone with the link.\"\n",
    "4. Extract the file ID from the link (e.g., for `https://drive.google.com/file/d/1j1gAU3kvdRqcOoKI5K5FgMMUZpOQANah/view`, the ID is `1j1gAU3kvdRqcOoKI5K5FgMMUZpOQANah`).\n",
    "5. Assign each ID to the appropriate variable in Part 1.\n",
    "6. Provide the local PATH for each database to be passed to the initializer for automatic loading of the database and index (to be submitted during the project final phase).\n",
    "\n",
    "**Note**: The code will download and unzip these files automatically. Once extracted, the local path for each database should be specified to enable the notebook to load databases and indexes."
   ]
  },
  {
   "cell_type": "code",
   "execution_count": 2,
   "metadata": {
    "execution": {
     "iopub.execute_input": "2024-12-19T22:42:16.331345Z",
     "iopub.status.busy": "2024-12-19T22:42:16.330983Z",
     "iopub.status.idle": "2024-12-19T22:42:16.337645Z",
     "shell.execute_reply": "2024-12-19T22:42:16.336528Z",
     "shell.execute_reply.started": "2024-12-19T22:42:16.331310Z"
    },
    "id": "kK46_ZVe5L3u",
    "trusted": true
   },
   "outputs": [],
   "source": [
    "TEAM_NUMBER = 1\n",
    "GDRIVE_ID_DB_1M = \"11I3AtPVmVIEGt61vgrNPX91I0qcrIUFB\"\n",
    "GDRIVE_ID_DB_10M = \"1g27e0fRpcVPM2EbEMUaQH__lA61GiOKe\"\n",
    "GDRIVE_ID_DB_15M = \"1iYxjsAB0x0KlE3DyLxnGP9U_5HmIYRy2\"\n",
    "GDRIVE_ID_DB_20M = \"1Jl4KHcGefhsJ58vq6aSOL0HkwMe7EwAp\"\n",
    "PATH_DB_1M = \"1M_Index\"\n",
    "PATH_DB_10M = \"10M_Index\"\n",
    "PATH_DB_15M = \"15M_Index\"\n",
    "PATH_DB_20M = \"20M_Index\""
   ]
  },
  {
   "cell_type": "markdown",
   "metadata": {
    "id": "0LGLg01fsujm"
   },
   "source": [
    "**Query Seed Number**:\n",
    "This number will be adjusted during discussions by the instructor.\n"
   ]
  },
  {
   "cell_type": "markdown",
   "metadata": {
    "id": "kWaZ-ByWOIcK"
   },
   "source": [
    "**Final Submission Checklist**:\n",
    "Ensure the following items are included in your final submission:\n",
    "- `TEAM_NUMBER`\n",
    "- GitHub clone link (with PAT token)\n",
    "- Google Drive IDs for each database:\n",
    "  - `GDRIVE_ID_DB_1M`, `GDRIVE_ID_DB_10M`, `GDRIVE_ID_DB_15M`, `GDRIVE_ID_DB_20M`\n",
    "- Paths for each database:\n",
    "  - `PATH_DB_1M`, `PATH_DB_10M`, `PATH_DB_15M`, `PATH_DB_20M`\n",
    "- Project document detailing the work and findings."
   ]
  },
  {
   "cell_type": "code",
   "execution_count": 3,
   "metadata": {
    "execution": {
     "iopub.execute_input": "2024-12-19T22:42:16.339707Z",
     "iopub.status.busy": "2024-12-19T22:42:16.339237Z",
     "iopub.status.idle": "2024-12-19T22:42:16.350319Z",
     "shell.execute_reply": "2024-12-19T22:42:16.348969Z",
     "shell.execute_reply.started": "2024-12-19T22:42:16.339658Z"
    },
    "id": "G44iH6jnObEj",
    "trusted": true
   },
   "outputs": [],
   "source": [
    "QUERY_SEED_NUMBER = 50"
   ]
  },
  {
   "cell_type": "markdown",
   "metadata": {
    "id": "hzFTOecwu8wj"
   },
   "source": [
    "## Part 2: Do Not Modify Beyond This Point\n",
    "### Note:\n",
    "This section contains setup and evaluation code that should not be edited by students. Only the instructor may modify this section in case of a major bug.\n"
   ]
  },
  {
   "cell_type": "code",
   "execution_count": 4,
   "metadata": {
    "execution": {
     "iopub.execute_input": "2024-12-19T22:42:16.353091Z",
     "iopub.status.busy": "2024-12-19T22:42:16.352725Z",
     "iopub.status.idle": "2024-12-19T22:42:16.383586Z",
     "shell.execute_reply": "2024-12-19T22:42:16.382205Z",
     "shell.execute_reply.started": "2024-12-19T22:42:16.353054Z"
    },
    "id": "67NUn3KWXA6u",
    "trusted": true
   },
   "outputs": [],
   "source": [
    "%load_ext autoreload\n",
    "%autoreload 2"
   ]
  },
  {
   "cell_type": "code",
   "execution_count": 5,
   "metadata": {
    "execution": {
     "iopub.execute_input": "2024-12-19T22:42:16.385515Z",
     "iopub.status.busy": "2024-12-19T22:42:16.385052Z",
     "iopub.status.idle": "2024-12-19T22:42:16.405592Z",
     "shell.execute_reply": "2024-12-19T22:42:16.404202Z",
     "shell.execute_reply.started": "2024-12-19T22:42:16.385468Z"
    },
    "id": "Dqujj7tYTA1l",
    "outputId": "57a04b15-72b7-40df-dd32-997bd59df674",
    "trusted": true
   },
   "outputs": [
    {
     "name": "stdout",
     "output_type": "stream",
     "text": [
      "/kaggle/working/vec_db\n"
     ]
    }
   ],
   "source": [
    "%cd vec_db"
   ]
  },
  {
   "cell_type": "markdown",
   "metadata": {
    "id": "yJmXzFdisD7P"
   },
   "source": [
    "This cell to run any additional requirement that your code need <br>\n"
   ]
  },
  {
   "cell_type": "code",
   "execution_count": 6,
   "metadata": {
    "execution": {
     "iopub.execute_input": "2024-12-19T22:42:16.407272Z",
     "iopub.status.busy": "2024-12-19T22:42:16.406943Z",
     "iopub.status.idle": "2024-12-19T22:42:43.947234Z",
     "shell.execute_reply": "2024-12-19T22:42:43.945902Z",
     "shell.execute_reply.started": "2024-12-19T22:42:16.407232Z"
    },
    "trusted": true
   },
   "outputs": [],
   "source": [
    "!conda install -y gdown  &> log.txt"
   ]
  },
  {
   "cell_type": "code",
   "execution_count": 7,
   "metadata": {
    "execution": {
     "iopub.execute_input": "2024-12-19T22:42:43.949728Z",
     "iopub.status.busy": "2024-12-19T22:42:43.949205Z",
     "iopub.status.idle": "2024-12-19T22:43:04.512920Z",
     "shell.execute_reply": "2024-12-19T22:43:04.511811Z",
     "shell.execute_reply.started": "2024-12-19T22:42:43.949676Z"
    },
    "id": "HaPjq2hMqd20",
    "outputId": "4b697845-7be9-424e-9847-50043b4e1c29",
    "trusted": true
   },
   "outputs": [
    {
     "name": "stdout",
     "output_type": "stream",
     "text": [
      "Requirement already satisfied: numpy in /opt/conda/lib/python3.10/site-packages (from -r requirements.txt (line 1)) (1.26.4)\n",
      "Requirement already satisfied: memory-profiler in /opt/conda/lib/python3.10/site-packages (from -r requirements.txt (line 2)) (0.61.0)\n",
      "Requirement already satisfied: scikit-learn in /opt/conda/lib/python3.10/site-packages (from -r requirements.txt (line 3)) (1.2.2)\n",
      "Requirement already satisfied: psutil in /opt/conda/lib/python3.10/site-packages (from memory-profiler->-r requirements.txt (line 2)) (5.9.3)\n",
      "Requirement already satisfied: scipy>=1.3.2 in /opt/conda/lib/python3.10/site-packages (from scikit-learn->-r requirements.txt (line 3)) (1.14.1)\n",
      "Requirement already satisfied: joblib>=1.1.1 in /opt/conda/lib/python3.10/site-packages (from scikit-learn->-r requirements.txt (line 3)) (1.4.2)\n",
      "Requirement already satisfied: threadpoolctl>=2.0.0 in /opt/conda/lib/python3.10/site-packages (from scikit-learn->-r requirements.txt (line 3)) (3.5.0)\n"
     ]
    }
   ],
   "source": [
    "!pip install memory-profiler &> log.txt\n",
    "!pip install -r requirements.txt"
   ]
  },
  {
   "cell_type": "markdown",
   "metadata": {
    "id": "lG0DALR498__"
   },
   "source": [
    "This cell to download the zip files and unzip them here."
   ]
  },
  {
   "cell_type": "code",
   "execution_count": 8,
   "metadata": {
    "execution": {
     "iopub.execute_input": "2024-12-19T22:43:04.515102Z",
     "iopub.status.busy": "2024-12-19T22:43:04.514644Z",
     "iopub.status.idle": "2024-12-19T22:44:40.178753Z",
     "shell.execute_reply": "2024-12-19T22:44:40.177414Z",
     "shell.execute_reply.started": "2024-12-19T22:43:04.515055Z"
    },
    "id": "jSv2z0PVp6HA",
    "outputId": "f9cf0dbd-2c18-4042-8471-dab82ff0cb93",
    "trusted": true
   },
   "outputs": [
    {
     "name": "stdout",
     "output_type": "stream",
     "text": [
      "Downloading...\n",
      "From (original): https://drive.google.com/uc?id=11I3AtPVmVIEGt61vgrNPX91I0qcrIUFB\n",
      "From (redirected): https://drive.google.com/uc?id=11I3AtPVmVIEGt61vgrNPX91I0qcrIUFB&confirm=t&uuid=f33787c6-043d-4702-9b5b-30fa9600aa51\n",
      "To: /kaggle/working/vec_db/saved_db_1m.zip\n",
      "100%|██████████████████████████████████████| 15.0M/15.0M [00:00<00:00, 76.2MB/s]\n",
      "Downloading...\n",
      "From (original): https://drive.google.com/uc?id=1g27e0fRpcVPM2EbEMUaQH__lA61GiOKe\n",
      "From (redirected): https://drive.google.com/uc?id=1g27e0fRpcVPM2EbEMUaQH__lA61GiOKe&confirm=t&uuid=b62997c3-f4a3-4f08-8b4b-1254a2d773e6\n",
      "To: /kaggle/working/vec_db/saved_db_10m.zip\n",
      "100%|██████████████████████████████████████| 44.3M/44.3M [00:01<00:00, 23.1MB/s]\n",
      "Downloading...\n",
      "From (original): https://drive.google.com/uc?id=1iYxjsAB0x0KlE3DyLxnGP9U_5HmIYRy2\n",
      "From (redirected): https://drive.google.com/uc?id=1iYxjsAB0x0KlE3DyLxnGP9U_5HmIYRy2&confirm=t&uuid=99ac3d2d-5b6b-4dc6-b3fa-61f6922778de\n",
      "To: /kaggle/working/vec_db/saved_db_15m.zip\n",
      "100%|███████████████████████████████████████| 60.0M/60.0M [00:00<00:00, 117MB/s]\n",
      "Downloading...\n",
      "From (original): https://drive.google.com/uc?id=1Jl4KHcGefhsJ58vq6aSOL0HkwMe7EwAp\n",
      "From (redirected): https://drive.google.com/uc?id=1Jl4KHcGefhsJ58vq6aSOL0HkwMe7EwAp&confirm=t&uuid=0c295536-f85a-4afc-bec7-676c36c5a776\n",
      "To: /kaggle/working/vec_db/saved_db_20m.zip\n",
      "100%|██████████████████████████████████████| 76.2M/76.2M [00:00<00:00, 82.4MB/s]\n"
     ]
    }
   ],
   "source": [
    "!gdown $GDRIVE_ID_DB_1M -O saved_db_1m.zip\n",
    "!gdown $GDRIVE_ID_DB_10M -O saved_db_10m.zip\n",
    "!gdown $GDRIVE_ID_DB_15M -O saved_db_15m.zip\n",
    "!gdown $GDRIVE_ID_DB_20M -O saved_db_20m.zip\n",
    "!unzip saved_db_1m.zip &> shut.txt\n",
    "!unzip saved_db_10m.zip &> shut.txt\n",
    "!unzip saved_db_15m.zip &> shut.txt\n",
    "!unzip saved_db_20m.zip &> shut.txt"
   ]
  },
  {
   "cell_type": "markdown",
   "metadata": {
    "id": "ShuPR-gGlX3f"
   },
   "source": [
    "These are the functions for running and reporting"
   ]
  },
  {
   "cell_type": "code",
   "execution_count": 9,
   "metadata": {
    "execution": {
     "iopub.execute_input": "2024-12-19T22:44:40.180885Z",
     "iopub.status.busy": "2024-12-19T22:44:40.180411Z",
     "iopub.status.idle": "2024-12-19T22:44:40.201960Z",
     "shell.execute_reply": "2024-12-19T22:44:40.200917Z",
     "shell.execute_reply.started": "2024-12-19T22:44:40.180845Z"
    },
    "id": "miaF8OeibbIL",
    "trusted": true
   },
   "outputs": [],
   "source": [
    "import numpy as np\n",
    "DB_SEED_NUMBER = 42\n",
    "ELEMENT_SIZE = np.dtype(np.float32).itemsize\n",
    "DIMENSION = 70"
   ]
  },
  {
   "cell_type": "code",
   "execution_count": 10,
   "metadata": {
    "execution": {
     "iopub.execute_input": "2024-12-19T22:44:40.205339Z",
     "iopub.status.busy": "2024-12-19T22:44:40.205016Z",
     "iopub.status.idle": "2024-12-19T22:44:42.007836Z",
     "shell.execute_reply": "2024-12-19T22:44:42.006828Z",
     "shell.execute_reply.started": "2024-12-19T22:44:40.205306Z"
    },
    "id": "Sg2vfYgeyavn",
    "trusted": true
   },
   "outputs": [],
   "source": [
    "import numpy as np\n",
    "import os\n",
    "from vec_db import VecDB\n",
    "import time\n",
    "from dataclasses import dataclass\n",
    "from typing import List\n",
    "from memory_profiler import memory_usage\n",
    "import gc\n",
    "\n",
    "@dataclass\n",
    "class Result:\n",
    "    run_time: float\n",
    "    top_k: int\n",
    "    db_ids: List[int]\n",
    "    actual_ids: List[int]\n",
    "\n",
    "def run_queries(db, queries, top_k, actual_ids, num_runs):\n",
    "    \"\"\"\n",
    "    Run queries on the database and record results for each query.\n",
    "\n",
    "    Parameters:\n",
    "    - db: Database instance to run queries on.\n",
    "    - queries: List of query vectors.\n",
    "    - top_k: Number of top results to retrieve.\n",
    "    - actual_ids: List of actual results to evaluate accuracy.\n",
    "    - num_runs: Number of query executions to perform for testing.\n",
    "\n",
    "    Returns:\n",
    "    - List of Result\n",
    "    \"\"\"\n",
    "    global results\n",
    "    results = []\n",
    "    for i in range(num_runs):\n",
    "        tic = time.time()\n",
    "        db_ids = db.retrieve(queries[i], top_k)\n",
    "        toc = time.time()\n",
    "        run_time = toc - tic\n",
    "        results.append(Result(run_time, top_k, db_ids, actual_ids[i]))\n",
    "    return results\n",
    "\n",
    "def memory_usage_run_queries(args):\n",
    "    \"\"\"\n",
    "    Run queries and measure memory usage during the execution.\n",
    "\n",
    "    Parameters:\n",
    "    - args: Arguments to be passed to the run_queries function.\n",
    "\n",
    "    Returns:\n",
    "    - results: The results of the run_queries.\n",
    "    - memory_diff: The difference in memory usage before and after running the queries.\n",
    "    \"\"\"\n",
    "    global results\n",
    "    mem_before = max(memory_usage())\n",
    "    mem = memory_usage(proc=(run_queries, args, {}), interval = 1e-3)\n",
    "    return results, max(mem) - mem_before\n",
    "\n",
    "def evaluate_result(results: List[Result]):\n",
    "    \"\"\"\n",
    "    Evaluate the results based on accuracy and runtime.\n",
    "    Scores are negative. So getting 0 is the best score.\n",
    "\n",
    "    Parameters:\n",
    "    - results: A list of Result objects\n",
    "\n",
    "    Returns:\n",
    "    - avg_score: The average score across all queries.\n",
    "    - avg_runtime: The average runtime for all queries.\n",
    "    \"\"\"\n",
    "    scores = []\n",
    "    run_time = []\n",
    "    for res in results:\n",
    "        run_time.append(res.run_time)\n",
    "        # case for retireving number not equal to top_k, socre will be the lowest\n",
    "        if len(set(res.db_ids)) != res.top_k or len(res.db_ids) != res.top_k:\n",
    "            scores.append( -1 * len(res.actual_ids) * res.top_k)\n",
    "            continue\n",
    "        score = 0\n",
    "        for id in res.db_ids:\n",
    "            try:\n",
    "                ind = res.actual_ids.index(id)\n",
    "                if ind > res.top_k * 3:\n",
    "                    score -= ind\n",
    "            except:\n",
    "                score -= len(res.actual_ids)\n",
    "        scores.append(score)\n",
    "\n",
    "    return sum(scores) / len(scores), sum(run_time) / len(run_time)\n",
    "\n",
    "def get_actual_ids_first_k(actual_sorted_ids, k):\n",
    "    \"\"\"\n",
    "    Retrieve the IDs from the sorted list of actual IDs.\n",
    "    actual IDs has the top_k for the 20 M database but for other databases we have to remove the numbers higher than the max size of the DB.\n",
    "\n",
    "    Parameters:\n",
    "    - actual_sorted_ids: A list of lists containing the sorted actual IDs for each query.\n",
    "    - k: The DB size.\n",
    "\n",
    "    Returns:\n",
    "    - List of lists containing the actual IDs for each query for this DB.\n",
    "    \"\"\"\n",
    "    return [[id for id in actual_sorted_ids_one_q if id < k] for actual_sorted_ids_one_q in actual_sorted_ids]"
   ]
  },
  {
   "cell_type": "markdown",
   "metadata": {
    "id": "J3bQQzzWlce4"
   },
   "source": [
    "This code to generate all the files for databases."
   ]
  },
  {
   "cell_type": "code",
   "execution_count": 11,
   "metadata": {
    "execution": {
     "iopub.execute_input": "2024-12-19T22:44:42.009750Z",
     "iopub.status.busy": "2024-12-19T22:44:42.009250Z",
     "iopub.status.idle": "2024-12-19T22:46:08.890770Z",
     "shell.execute_reply": "2024-12-19T22:46:08.888655Z",
     "shell.execute_reply.started": "2024-12-19T22:44:42.009706Z"
    },
    "id": "zZPsvyMqX17g",
    "trusted": true
   },
   "outputs": [],
   "source": [
    "def _write_vectors_to_file(vectors: np.ndarray, db_path) -> None:\n",
    "    mmap_vectors = np.memmap(db_path, dtype=np.float32, mode='w+', shape=vectors.shape)\n",
    "    mmap_vectors[:] = vectors[:]\n",
    "    mmap_vectors.flush()\n",
    "\n",
    "def generate_database(size: int) -> None:\n",
    "    rng = np.random.default_rng(DB_SEED_NUMBER)\n",
    "    vectors = rng.random((size, DIMENSION), dtype=np.float32)\n",
    "    return vectors\n",
    "\n",
    "vectors = generate_database(20*10**6)\n",
    "\n",
    "db_filename_size_20M = 'saved_db_20M.dat'\n",
    "if not os.path.exists(db_filename_size_20M): _write_vectors_to_file(vectors, db_filename_size_20M)\n",
    "db_filename_size_15M = 'saved_db_15M.dat'\n",
    "if not os.path.exists(db_filename_size_15M): _write_vectors_to_file(vectors[:15*10**6], db_filename_size_15M)\n",
    "db_filename_size_10M = 'saved_db_10M.dat'\n",
    "if not os.path.exists(db_filename_size_10M): _write_vectors_to_file(vectors[:10*10**6], db_filename_size_10M)\n",
    "db_filename_size_1M = 'saved_db_1M.dat'\n",
    "if not os.path.exists(db_filename_size_1M): _write_vectors_to_file(vectors[:1*10**6], db_filename_size_1M)\n"
   ]
  },
  {
   "cell_type": "markdown",
   "metadata": {
    "id": "Q4GDcog3dMZY"
   },
   "source": [
    "Code to generate the queries that will be used to evaluate the questions.\n",
    "\n",
    "Note: QUERY_SEED_NUMBER will be changed at submission day"
   ]
  },
  {
   "cell_type": "code",
   "execution_count": 12,
   "metadata": {
    "execution": {
     "iopub.execute_input": "2024-12-19T22:46:08.894527Z",
     "iopub.status.busy": "2024-12-19T22:46:08.893978Z",
     "iopub.status.idle": "2024-12-19T22:46:43.980742Z",
     "shell.execute_reply": "2024-12-19T22:46:43.979615Z",
     "shell.execute_reply.started": "2024-12-19T22:46:08.894472Z"
    },
    "id": "c83ybYSKK85G",
    "trusted": true
   },
   "outputs": [],
   "source": [
    "needed_top_k = 10000\n",
    "rng = np.random.default_rng(QUERY_SEED_NUMBER)\n",
    "query1 = rng.random((1, 70), dtype=np.float32)\n",
    "query2 = rng.random((1, 70), dtype=np.float32)\n",
    "query3 = rng.random((1, 70), dtype=np.float32)\n",
    "query_dummy = rng.random((1, 70), dtype=np.float32)\n",
    "\n",
    "actual_sorted_ids_20m_q1 = np.argsort(vectors.dot(query1.T).T / (np.linalg.norm(vectors, axis=1) * np.linalg.norm(query1)), axis= 1).squeeze().tolist()[::-1][:needed_top_k]\n",
    "gc.collect()\n",
    "actual_sorted_ids_20m_q2 = np.argsort(vectors.dot(query2.T).T / (np.linalg.norm(vectors, axis=1) * np.linalg.norm(query2)), axis= 1).squeeze().tolist()[::-1][:needed_top_k]\n",
    "gc.collect()\n",
    "actual_sorted_ids_20m_q3 = np.argsort(vectors.dot(query3.T).T / (np.linalg.norm(vectors, axis=1) * np.linalg.norm(query3)), axis= 1).squeeze().tolist()[::-1][:needed_top_k]\n",
    "gc.collect()\n",
    "\n",
    "queries = [query1, query2, query3]\n",
    "actual_sorted_ids_20m = [actual_sorted_ids_20m_q1, actual_sorted_ids_20m_q2, actual_sorted_ids_20m_q3]"
   ]
  },
  {
   "cell_type": "code",
   "execution_count": 13,
   "metadata": {
    "execution": {
     "iopub.execute_input": "2024-12-19T22:46:43.982730Z",
     "iopub.status.busy": "2024-12-19T22:46:43.982248Z",
     "iopub.status.idle": "2024-12-19T22:46:44.089834Z",
     "shell.execute_reply": "2024-12-19T22:46:44.088721Z",
     "shell.execute_reply.started": "2024-12-19T22:46:43.982682Z"
    },
    "id": "bW7eI-hIvIfb",
    "outputId": "34af503d-a3fd-4008-ca9d-6e61eaed667e",
    "trusted": true
   },
   "outputs": [
    {
     "data": {
      "text/plain": [
       "0"
      ]
     },
     "execution_count": 13,
     "metadata": {},
     "output_type": "execute_result"
    }
   ],
   "source": [
    "# No more need to the actual vectors so delete it\n",
    "del vectors\n",
    "gc.collect()"
   ]
  },
  {
   "cell_type": "markdown",
   "metadata": {
    "id": "rrOlipAOmy9K"
   },
   "source": [
    "This code to actually run the class you have been implemented. The `VecDB` class should take the database path, and index path that you provided.<br>\n",
    "Note at the submission I'll not run the insert records. <br>\n",
    "The query istelf will be changed at submissions day but not the DB"
   ]
  },
  {
   "cell_type": "code",
   "execution_count": 14,
   "metadata": {
    "execution": {
     "iopub.execute_input": "2024-12-19T22:46:44.091565Z",
     "iopub.status.busy": "2024-12-19T22:46:44.091138Z",
     "iopub.status.idle": "2024-12-19T22:46:44.114115Z",
     "shell.execute_reply": "2024-12-19T22:46:44.112916Z",
     "shell.execute_reply.started": "2024-12-19T22:46:44.091519Z"
    },
    "id": "g-hCaQNqlBP0",
    "trusted": true
   },
   "outputs": [],
   "source": [
    "results = []\n",
    "to_print_arr = []"
   ]
  },
  {
   "cell_type": "code",
   "execution_count": 15,
   "metadata": {
    "execution": {
     "iopub.execute_input": "2024-12-19T22:46:44.115958Z",
     "iopub.status.busy": "2024-12-19T22:46:44.115590Z",
     "iopub.status.idle": "2024-12-19T22:48:10.963574Z",
     "shell.execute_reply": "2024-12-19T22:48:10.962235Z",
     "shell.execute_reply.started": "2024-12-19T22:46:44.115912Z"
    },
    "id": "h-UFbhBPlQtz",
    "outputId": "55072ace-347c-4b15-a359-38d46ca41295",
    "trusted": true
   },
   "outputs": [
    {
     "name": "stdout",
     "output_type": "stream",
     "text": [
      "Team Number 1\n",
      "1M\tscore\t0.0\ttime\t1.99\tRAM\t0.12 MB\n",
      "10M\tscore\t-22.333333333333332\ttime\t4.57\tRAM\t0.25 MB\n",
      "15M\tscore\t-90.0\ttime\t5.63\tRAM\t0.50 MB\n",
      "20M\tscore\t-457.6666666666667\ttime\t7.36\tRAM\t0.00 MB\n"
     ]
    }
   ],
   "source": [
    "print(\"Team Number\", TEAM_NUMBER)\n",
    "database_info = {\n",
    "    \"1M\": {\n",
    "        \"database_file_path\": db_filename_size_1M,\n",
    "        \"index_file_path\": PATH_DB_1M,\n",
    "        \"size\": 10**6\n",
    "    },\n",
    "     \"10M\": {\n",
    "         \"database_file_path\": db_filename_size_10M,\n",
    "         \"index_file_path\": PATH_DB_10M,\n",
    "         \"size\": 10 * 10**6\n",
    "     },\n",
    "     \"15M\": {\n",
    "         \"database_file_path\": db_filename_size_15M,\n",
    "         \"index_file_path\": PATH_DB_15M,\n",
    "         \"size\": 15 * 10**6\n",
    "     },\n",
    "     \"20M\": {\n",
    "         \"database_file_path\": db_filename_size_20M,\n",
    "         \"index_file_path\": PATH_DB_20M,\n",
    "         \"size\": 20 * 10**6\n",
    "     }\n",
    "}\n",
    "\n",
    "for db_name, info in database_info.items():\n",
    "    db = VecDB(database_file_path = info[\"database_file_path\"], index_file_path = info[\"index_file_path\"], new_db = False)\n",
    "    actual_ids = get_actual_ids_first_k(actual_sorted_ids_20m, info[\"size\"])\n",
    "    # Make a dummy run query to make everything fresh and loaded (wrap up)\n",
    "    res = run_queries(db, query_dummy, 5, actual_ids, 1)\n",
    "    # actual runs to evaluate\n",
    "    res, mem = memory_usage_run_queries((db, queries, 5, actual_ids, 3))\n",
    "    eval = evaluate_result(res)\n",
    "    to_print = f\"{db_name}\\tscore\\t{eval[0]}\\ttime\\t{eval[1]:.2f}\\tRAM\\t{mem:.2f} MB\"\n",
    "    print(to_print)\n",
    "    to_print_arr.append(to_print)\n",
    "    del db\n",
    "    del actual_ids\n",
    "    del res\n",
    "    del mem\n",
    "    del eval\n",
    "    gc.collect()"
   ]
  },
  {
   "cell_type": "code",
   "execution_count": 16,
   "metadata": {
    "execution": {
     "iopub.execute_input": "2024-12-19T22:48:10.965809Z",
     "iopub.status.busy": "2024-12-19T22:48:10.965298Z",
     "iopub.status.idle": "2024-12-19T22:48:10.992096Z",
     "shell.execute_reply": "2024-12-19T22:48:10.990894Z",
     "shell.execute_reply.started": "2024-12-19T22:48:10.965759Z"
    },
    "id": "jt1_7ihfB37Z",
    "outputId": "5f6a1b32-5ca3-4e3c-c314-e61caaec99ce",
    "trusted": true
   },
   "outputs": [
    {
     "name": "stdout",
     "output_type": "stream",
     "text": [
      "Team Number 1\n",
      "1M\tscore\t0.0\ttime\t1.99\tRAM\t0.12 MB\n",
      "10M\tscore\t-22.333333333333332\ttime\t4.57\tRAM\t0.25 MB\n",
      "15M\tscore\t-90.0\ttime\t5.63\tRAM\t0.50 MB\n",
      "20M\tscore\t-457.6666666666667\ttime\t7.36\tRAM\t0.00 MB\n"
     ]
    }
   ],
   "source": [
    "print(\"Team Number\", TEAM_NUMBER)\n",
    "print(\"\\n\".join(to_print_arr))"
   ]
  },
  {
   "cell_type": "code",
   "execution_count": null,
   "metadata": {
    "trusted": true
   },
   "outputs": [],
   "source": []
  }
 ],
 "metadata": {
  "colab": {
   "provenance": []
  },
  "kaggle": {
   "accelerator": "none",
   "dataSources": [],
   "dockerImageVersionId": 30804,
   "isGpuEnabled": false,
   "isInternetEnabled": true,
   "language": "python",
   "sourceType": "notebook"
  },
  "kernelspec": {
   "display_name": "Python 3",
   "language": "python",
   "name": "python3"
  },
  "language_info": {
   "codemirror_mode": {
    "name": "ipython",
    "version": 3
   },
   "file_extension": ".py",
   "mimetype": "text/x-python",
   "name": "python",
   "nbconvert_exporter": "python",
   "pygments_lexer": "ipython3",
   "version": "3.10.14"
  }
 },
 "nbformat": 4,
 "nbformat_minor": 4
}
